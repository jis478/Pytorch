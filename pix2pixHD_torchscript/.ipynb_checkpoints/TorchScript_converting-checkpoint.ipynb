{
 "cells": [
  {
   "cell_type": "code",
   "execution_count": 1,
   "metadata": {},
   "outputs": [],
   "source": [
    "import os\n",
    "from collections import OrderedDict\n",
    "import easydict\n",
    "from options.test_options import TestOptions\n",
    "from data.data_loader import CreateDataLoader\n",
    "from models.models import create_model\n",
    "import util.util as util\n",
    "from util.visualizer import Visualizer\n",
    "from util import html\n",
    "import torch\n",
    "import numpy as np\n"
   ]
  },
  {
   "cell_type": "code",
   "execution_count": null,
   "metadata": {},
   "outputs": [],
   "source": [
    "opt = easydict.EasyDict({\n",
    "\"spect_ratio\":1.0,  \n",
    "\"batchSize\":32, \n",
    "\"checkpoints_dir\":'/home/pix2pixHD/checkpoints/',\n",
    "\"cluster_path\":'features_clustered_010.npy',\n",
    "\"data_type\":32,\n",
    "\"dataroot\":'/datasets/',\n",
    "\"display_winsize\":512,\n",
    "\"engine\":None,\n",
    "\"export_onnx\":None,\n",
    "\"feat_num\":3,\n",
    "\"fineSize\":256,\n",
    "\"fp16\":False,\n",
    "\"gpu_ids\":[0],\n",
    "\"how_many\":50,\n",
    "\"input_nc\":3,\n",
    "\"instance_feat\":False,\n",
    "\"isTrain\":False,\n",
    "\"label_feat\":False,\n",
    "\"label_nc\":0,\n",
    "\"loadSize\":256,\n",
    "\"load_features\":False,\n",
    "\"local_rank\":0,\n",
    "# \"max_dataset_size\"=inf,\n",
    "\"model\":'pix2pixHD',\n",
    "\"nThreads\":2,\n",
    "\"n_blocks_global\":9,\n",
    "\"n_blocks_local\":3,\n",
    "\"n_clusters\":10,\n",
    "\"n_downsample_E\":4,\n",
    "\"n_downsample_global\":4,\n",
    "\"n_local_enhancers\":1,\n",
    "\"name\":'model.pt',\n",
    "\"nef\":16,\n",
    "\"netG\":'global',\n",
    "\"ngf\":64,\n",
    "\"niter_fix_global\":0,\n",
    "\"no_flip\":False,\n",
    "\"no_instance\":True,\n",
    "\"norm\":'instance',\n",
    "\"onnx\":None,\n",
    "\"output_nc\":3,\n",
    "\"phase\":'test',\n",
    "\"resize_or_crop\":'scale_width',\n",
    "\"results_dir\":'./results/',\n",
    "\"serial_batches\":False,\n",
    "\"tf_log\":False,\n",
    "\"use_dropout\":False,\n",
    "\"use_encoded_image\":False,\n",
    "\"verbose\":False,\n",
    "\"nThreads\": 1,   # test code only supports nThreads = 1\n",
    "\"batchSize\": 1, # test code only supports batchSize = 1\n",
    "\"serial_batches\":True,  # no shuffle\n",
    "\"no_flip\":True,  # no flip\n",
    "\"which_epoch\":200\n",
    "})"
   ]
  },
  {
   "cell_type": "code",
   "execution_count": 4,
   "metadata": {},
   "outputs": [
    {
     "name": "stderr",
     "output_type": "stream",
     "text": [
      "usage: ipykernel_launcher.py [-h] [--name NAME] [--gpu_ids GPU_IDS]\n",
      "                             [--checkpoints_dir CHECKPOINTS_DIR]\n",
      "                             [--model MODEL] [--norm NORM] [--use_dropout]\n",
      "                             [--data_type {8,16,32}] [--verbose] [--fp16]\n",
      "                             [--local_rank LOCAL_RANK] [--batchSize BATCHSIZE]\n",
      "                             [--loadSize LOADSIZE] [--fineSize FINESIZE]\n",
      "                             [--label_nc LABEL_NC] [--input_nc INPUT_NC]\n",
      "                             [--output_nc OUTPUT_NC] [--dataroot DATAROOT]\n",
      "                             [--resize_or_crop RESIZE_OR_CROP]\n",
      "                             [--serial_batches] [--no_flip]\n",
      "                             [--nThreads NTHREADS]\n",
      "                             [--max_dataset_size MAX_DATASET_SIZE]\n",
      "                             [--display_winsize DISPLAY_WINSIZE] [--tf_log]\n",
      "                             [--netG NETG] [--ngf NGF]\n",
      "                             [--n_downsample_global N_DOWNSAMPLE_GLOBAL]\n",
      "                             [--n_blocks_global N_BLOCKS_GLOBAL]\n",
      "                             [--n_blocks_local N_BLOCKS_LOCAL]\n",
      "                             [--n_local_enhancers N_LOCAL_ENHANCERS]\n",
      "                             [--niter_fix_global NITER_FIX_GLOBAL]\n",
      "                             [--no_instance] [--instance_feat] [--label_feat]\n",
      "                             [--feat_num FEAT_NUM] [--load_features]\n",
      "                             [--n_downsample_E N_DOWNSAMPLE_E] [--nef NEF]\n",
      "                             [--n_clusters N_CLUSTERS] [--ntest NTEST]\n",
      "                             [--results_dir RESULTS_DIR]\n",
      "                             [--aspect_ratio ASPECT_RATIO] [--phase PHASE]\n",
      "                             [--which_epoch WHICH_EPOCH] [--how_many HOW_MANY]\n",
      "                             [--cluster_path CLUSTER_PATH]\n",
      "                             [--use_encoded_image] [--export_onnx EXPORT_ONNX]\n",
      "                             [--engine ENGINE] [--onnx ONNX]\n",
      "ipykernel_launcher.py: error: unrecognized arguments: -f /root/.local/share/jupyter/runtime/kernel-493becd8-9eff-4cf1-b902-d7993e2ea89c.json\n"
     ]
    },
    {
     "ename": "SystemExit",
     "evalue": "2",
     "output_type": "error",
     "traceback": [
      "An exception has occurred, use %tb to see the full traceback.\n",
      "\u001b[0;31mSystemExit\u001b[0m\u001b[0;31m:\u001b[0m 2\n"
     ]
    }
   ],
   "source": [
    "opt = TestOptions().parse(save=False)"
   ]
  },
  {
   "cell_type": "code",
   "execution_count": null,
   "metadata": {},
   "outputs": [],
   "source": [
    "import os\n",
    "from collections import OrderedDict\n",
    "import easydict\n",
    "from options.test_options import TestOptions\n",
    "from data.data_loader import CreateDataLoader\n",
    "from models.models import create_model\n",
    "import util.util as util\n",
    "from util.visualizer import Visualizer\n",
    "from util import html\n",
    "import torch\n",
    "import numpy as np\n",
    "\n",
    "if __name__ == '__main__':\n",
    "    \n",
    "    opt = TestOptions().parse(save=False)\n",
    "    model = create_model(opt)\n",
    "    model = model.cuda()\n",
    "    traced_script_module = torch.jit.script(model)\n",
    "    traced_script_module.save('model_torchscript.pt')\n",
    "    print('TorchScript Conversion Finished!')\n",
    "    \n"
   ]
  }
 ],
 "metadata": {
  "kernelspec": {
   "display_name": "Python 3",
   "language": "python",
   "name": "python3"
  },
  "language_info": {
   "codemirror_mode": {
    "name": "ipython",
    "version": 3
   },
   "file_extension": ".py",
   "mimetype": "text/x-python",
   "name": "python",
   "nbconvert_exporter": "python",
   "pygments_lexer": "ipython3",
   "version": "3.6.9"
  }
 },
 "nbformat": 4,
 "nbformat_minor": 4
}
